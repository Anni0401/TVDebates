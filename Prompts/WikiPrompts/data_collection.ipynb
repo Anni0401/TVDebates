{
 "cells": [
  {
   "cell_type": "code",
   "execution_count": 2,
   "metadata": {},
   "outputs": [],
   "source": [
    "import wikipediaapi\n",
    "from tqdm.auto import tqdm\n",
    "from collections import Counter\n",
    "import requests\n",
    "from bs4 import BeautifulSoup\n",
    "from collections import defaultdict\n",
    "import pandas as pd"
   ]
  },
  {
   "cell_type": "code",
   "execution_count": 3,
   "metadata": {},
   "outputs": [],
   "source": [
    "wiki_wiki = wikipediaapi.Wikipedia('TVDebates (rogers.elisa.marie@gmail.com)', 'de', timeout=1000)"
   ]
  },
  {
   "cell_type": "code",
   "execution_count": 4,
   "metadata": {},
   "outputs": [],
   "source": [
    "pages = [\n",
    "    'Robert Habeck', \n",
    "    'Friedrich Merz'\n",
    "]"
   ]
  },
  {
   "cell_type": "code",
   "execution_count": 5,
   "metadata": {},
   "outputs": [],
   "source": [
    "def get_wiki_sections_text(page):\n",
    "    ignore_sections = [\"Weblinks\", \"Einzelnachweise\"]\n",
    "    wiki_page = wiki_wiki.page(page)\n",
    "    \n",
    "    # Get all the sections text\n",
    "    page_sections = [x.text for x in wiki_page.sections if x.title not in ignore_sections and x.text != \"\"]\n",
    "    section_titles = [x.title for x in wiki_page.sections if x.title not in ignore_sections and x.text != \"\"]\n",
    "    \n",
    "    # Add the summary page\n",
    "    page_sections.append(wiki_page.summary)\n",
    "    section_titles.append(\"Summary\")\n",
    "\n",
    "    return page_sections, section_titles"
   ]
  },
  {
   "cell_type": "code",
   "execution_count": 6,
   "metadata": {},
   "outputs": [],
   "source": [
    "def get_pages_df(pages):\n",
    "    page_section_texts = []\n",
    "    for page in tqdm(pages):\n",
    "        sections, titles = get_wiki_sections_text(page)\n",
    "        for section, title in zip(sections, titles):\n",
    "            page_section_texts.append({\n",
    "                'page': page,\n",
    "                'section_title': title,\n",
    "                'text': section\n",
    "            })\n",
    "    print(len(page_section_texts))\n",
    "    return pd.DataFrame(page_section_texts)"
   ]
  },
  {
   "cell_type": "code",
   "execution_count": 7,
   "metadata": {},
   "outputs": [
    {
     "name": "stderr",
     "output_type": "stream",
     "text": [
      "100%|██████████| 2/2 [00:05<00:00,  2.66s/it]"
     ]
    },
    {
     "name": "stdout",
     "output_type": "stream",
     "text": [
      "13\n",
      "(13, 3)\n"
     ]
    },
    {
     "name": "stderr",
     "output_type": "stream",
     "text": [
      "\n"
     ]
    },
    {
     "data": {
      "text/html": [
       "<div>\n",
       "<style scoped>\n",
       "    .dataframe tbody tr th:only-of-type {\n",
       "        vertical-align: middle;\n",
       "    }\n",
       "\n",
       "    .dataframe tbody tr th {\n",
       "        vertical-align: top;\n",
       "    }\n",
       "\n",
       "    .dataframe thead th {\n",
       "        text-align: right;\n",
       "    }\n",
       "</style>\n",
       "<table border=\"1\" class=\"dataframe\">\n",
       "  <thead>\n",
       "    <tr style=\"text-align: right;\">\n",
       "      <th></th>\n",
       "      <th>page</th>\n",
       "      <th>section_title</th>\n",
       "      <th>text</th>\n",
       "    </tr>\n",
       "  </thead>\n",
       "  <tbody>\n",
       "    <tr>\n",
       "      <th>0</th>\n",
       "      <td>Robert Habeck</td>\n",
       "      <td>Schulbildung und Studium</td>\n",
       "      <td>Habeck wurde als Sohn von Hermann Habeck und d...</td>\n",
       "    </tr>\n",
       "    <tr>\n",
       "      <th>1</th>\n",
       "      <td>Robert Habeck</td>\n",
       "      <td>Literarische Tätigkeit</td>\n",
       "      <td>Seit 1999 arbeiten Robert Habeck und seine Ehe...</td>\n",
       "    </tr>\n",
       "    <tr>\n",
       "      <th>2</th>\n",
       "      <td>Robert Habeck</td>\n",
       "      <td>Medienauftritt</td>\n",
       "      <td>Im Januar 2019 nahm Habeck in seiner Rolle als...</td>\n",
       "    </tr>\n",
       "    <tr>\n",
       "      <th>3</th>\n",
       "      <td>Robert Habeck</td>\n",
       "      <td>Privates</td>\n",
       "      <td>Als Jugendlicher sammelte Robert Habeck Briefm...</td>\n",
       "    </tr>\n",
       "    <tr>\n",
       "      <th>4</th>\n",
       "      <td>Robert Habeck</td>\n",
       "      <td>Auszeichnungen</td>\n",
       "      <td>1996: Preis für literarische Übersetzungen der...</td>\n",
       "    </tr>\n",
       "  </tbody>\n",
       "</table>\n",
       "</div>"
      ],
      "text/plain": [
       "            page             section_title  \\\n",
       "0  Robert Habeck  Schulbildung und Studium   \n",
       "1  Robert Habeck    Literarische Tätigkeit   \n",
       "2  Robert Habeck            Medienauftritt   \n",
       "3  Robert Habeck                  Privates   \n",
       "4  Robert Habeck            Auszeichnungen   \n",
       "\n",
       "                                                text  \n",
       "0  Habeck wurde als Sohn von Hermann Habeck und d...  \n",
       "1  Seit 1999 arbeiten Robert Habeck und seine Ehe...  \n",
       "2  Im Januar 2019 nahm Habeck in seiner Rolle als...  \n",
       "3  Als Jugendlicher sammelte Robert Habeck Briefm...  \n",
       "4  1996: Preis für literarische Übersetzungen der...  "
      ]
     },
     "execution_count": 7,
     "metadata": {},
     "output_type": "execute_result"
    }
   ],
   "source": [
    "pages_df = get_pages_df(pages)\n",
    "pages_df.to_csv(\"Wikipedia_Politicians.csv\", index=False)\n",
    "print(pages_df.shape)\n",
    "pages_df.head()"
   ]
  }
 ],
 "metadata": {
  "kernelspec": {
   "display_name": ".venv",
   "language": "python",
   "name": "python3"
  },
  "language_info": {
   "codemirror_mode": {
    "name": "ipython",
    "version": 3
   },
   "file_extension": ".py",
   "mimetype": "text/x-python",
   "name": "python",
   "nbconvert_exporter": "python",
   "pygments_lexer": "ipython3",
   "version": "3.12.6"
  }
 },
 "nbformat": 4,
 "nbformat_minor": 2
}
